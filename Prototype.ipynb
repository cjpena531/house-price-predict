{
 "cells": [
  {
   "cell_type": "markdown",
   "id": "f2b66dde",
   "metadata": {},
   "source": [
    "# Prototype\n",
    "#### Import necessary packages:"
   ]
  },
  {
   "cell_type": "code",
   "execution_count": 1,
   "id": "2628c118",
   "metadata": {},
   "outputs": [
    {
     "name": "stderr",
     "output_type": "stream",
     "text": [
      "In /Users/cathleenpena1/anaconda3/lib/python3.8/site-packages/matplotlib/mpl-data/stylelib/_classic_test.mplstyle: \n",
      "The text.latex.preview rcparam was deprecated in Matplotlib 3.3 and will be removed two minor releases later.\n",
      "In /Users/cathleenpena1/anaconda3/lib/python3.8/site-packages/matplotlib/mpl-data/stylelib/_classic_test.mplstyle: \n",
      "The mathtext.fallback_to_cm rcparam was deprecated in Matplotlib 3.3 and will be removed two minor releases later.\n",
      "In /Users/cathleenpena1/anaconda3/lib/python3.8/site-packages/matplotlib/mpl-data/stylelib/_classic_test.mplstyle: Support for setting the 'mathtext.fallback_to_cm' rcParam is deprecated since 3.3 and will be removed two minor releases later; use 'mathtext.fallback : 'cm' instead.\n",
      "In /Users/cathleenpena1/anaconda3/lib/python3.8/site-packages/matplotlib/mpl-data/stylelib/_classic_test.mplstyle: \n",
      "The validate_bool_maybe_none function was deprecated in Matplotlib 3.3 and will be removed two minor releases later.\n",
      "In /Users/cathleenpena1/anaconda3/lib/python3.8/site-packages/matplotlib/mpl-data/stylelib/_classic_test.mplstyle: \n",
      "The savefig.jpeg_quality rcparam was deprecated in Matplotlib 3.3 and will be removed two minor releases later.\n",
      "In /Users/cathleenpena1/anaconda3/lib/python3.8/site-packages/matplotlib/mpl-data/stylelib/_classic_test.mplstyle: \n",
      "The keymap.all_axes rcparam was deprecated in Matplotlib 3.3 and will be removed two minor releases later.\n",
      "In /Users/cathleenpena1/anaconda3/lib/python3.8/site-packages/matplotlib/mpl-data/stylelib/_classic_test.mplstyle: \n",
      "The animation.avconv_path rcparam was deprecated in Matplotlib 3.3 and will be removed two minor releases later.\n",
      "In /Users/cathleenpena1/anaconda3/lib/python3.8/site-packages/matplotlib/mpl-data/stylelib/_classic_test.mplstyle: \n",
      "The animation.avconv_args rcparam was deprecated in Matplotlib 3.3 and will be removed two minor releases later.\n"
     ]
    }
   ],
   "source": [
    "import seaborn as sns\n",
    "import pandas as pd\n",
    "\n",
    "from sklearn.dummy import DummyRegressor\n",
    "from sklearn.ensemble import RandomForestRegressor\n",
    "\n",
    "from sklearn.model_selection import GridSearchCV\n",
    "from sklearn.model_selection import cross_val_score\n",
    "from sklearn.model_selection import train_test_split\n",
    "from sklearn.metrics import mean_squared_error"
   ]
  },
  {
   "cell_type": "markdown",
   "id": "2ac0b881",
   "metadata": {},
   "source": [
    "### Load Data"
   ]
  },
  {
   "cell_type": "code",
   "execution_count": 19,
   "id": "25df0fcb",
   "metadata": {},
   "outputs": [
    {
     "data": {
      "text/html": [
       "<div>\n",
       "<style scoped>\n",
       "    .dataframe tbody tr th:only-of-type {\n",
       "        vertical-align: middle;\n",
       "    }\n",
       "\n",
       "    .dataframe tbody tr th {\n",
       "        vertical-align: top;\n",
       "    }\n",
       "\n",
       "    .dataframe thead th {\n",
       "        text-align: right;\n",
       "    }\n",
       "</style>\n",
       "<table border=\"1\" class=\"dataframe\">\n",
       "  <thead>\n",
       "    <tr style=\"text-align: right;\">\n",
       "      <th></th>\n",
       "      <th>start_date</th>\n",
       "      <th>end_date</th>\n",
       "      <th>created_on</th>\n",
       "      <th>lat</th>\n",
       "      <th>lon</th>\n",
       "      <th>rooms</th>\n",
       "      <th>bedrooms</th>\n",
       "      <th>bathrooms</th>\n",
       "      <th>surface_total</th>\n",
       "      <th>surface_covered</th>\n",
       "      <th>...</th>\n",
       "      <th>property_type_House</th>\n",
       "      <th>property_type_Lot</th>\n",
       "      <th>property_type_Office</th>\n",
       "      <th>property_type_Other</th>\n",
       "      <th>property_type_PH</th>\n",
       "      <th>property_type_Shop</th>\n",
       "      <th>property_type_Warehouse</th>\n",
       "      <th>operation_type_For Rent</th>\n",
       "      <th>operation_type_For Sale</th>\n",
       "      <th>operation_type_For Sublease</th>\n",
       "    </tr>\n",
       "  </thead>\n",
       "  <tbody>\n",
       "    <tr>\n",
       "      <th>0</th>\n",
       "      <td>2020-06-17</td>\n",
       "      <td>2020-06-18</td>\n",
       "      <td>2020-06-17</td>\n",
       "      <td>-34.995340</td>\n",
       "      <td>-58.047423</td>\n",
       "      <td>2.844661</td>\n",
       "      <td>0.0</td>\n",
       "      <td>1.70148</td>\n",
       "      <td>474.884308</td>\n",
       "      <td>6370.15545</td>\n",
       "      <td>...</td>\n",
       "      <td>0</td>\n",
       "      <td>0</td>\n",
       "      <td>0</td>\n",
       "      <td>0</td>\n",
       "      <td>0</td>\n",
       "      <td>0</td>\n",
       "      <td>0</td>\n",
       "      <td>0</td>\n",
       "      <td>1</td>\n",
       "      <td>0</td>\n",
       "    </tr>\n",
       "    <tr>\n",
       "      <th>1</th>\n",
       "      <td>2020-05-20</td>\n",
       "      <td>2020-05-20</td>\n",
       "      <td>2020-05-20</td>\n",
       "      <td>-34.816634</td>\n",
       "      <td>-59.193616</td>\n",
       "      <td>5.000000</td>\n",
       "      <td>2.0</td>\n",
       "      <td>1.00000</td>\n",
       "      <td>72.000000</td>\n",
       "      <td>72.00000</td>\n",
       "      <td>...</td>\n",
       "      <td>0</td>\n",
       "      <td>0</td>\n",
       "      <td>0</td>\n",
       "      <td>0</td>\n",
       "      <td>0</td>\n",
       "      <td>0</td>\n",
       "      <td>0</td>\n",
       "      <td>0</td>\n",
       "      <td>1</td>\n",
       "      <td>0</td>\n",
       "    </tr>\n",
       "    <tr>\n",
       "      <th>2</th>\n",
       "      <td>2020-07-14</td>\n",
       "      <td>2020-08-13</td>\n",
       "      <td>2020-07-14</td>\n",
       "      <td>-31.116769</td>\n",
       "      <td>-64.482921</td>\n",
       "      <td>2.844661</td>\n",
       "      <td>3.0</td>\n",
       "      <td>1.00000</td>\n",
       "      <td>747.000000</td>\n",
       "      <td>244.00000</td>\n",
       "      <td>...</td>\n",
       "      <td>1</td>\n",
       "      <td>0</td>\n",
       "      <td>0</td>\n",
       "      <td>0</td>\n",
       "      <td>0</td>\n",
       "      <td>0</td>\n",
       "      <td>0</td>\n",
       "      <td>0</td>\n",
       "      <td>1</td>\n",
       "      <td>0</td>\n",
       "    </tr>\n",
       "  </tbody>\n",
       "</table>\n",
       "<p>3 rows × 71 columns</p>\n",
       "</div>"
      ],
      "text/plain": [
       "   start_date    end_date  created_on        lat        lon     rooms  \\\n",
       "0  2020-06-17  2020-06-18  2020-06-17 -34.995340 -58.047423  2.844661   \n",
       "1  2020-05-20  2020-05-20  2020-05-20 -34.816634 -59.193616  5.000000   \n",
       "2  2020-07-14  2020-08-13  2020-07-14 -31.116769 -64.482921  2.844661   \n",
       "\n",
       "   bedrooms  bathrooms  surface_total  surface_covered  ...  \\\n",
       "0       0.0    1.70148     474.884308       6370.15545  ...   \n",
       "1       2.0    1.00000      72.000000         72.00000  ...   \n",
       "2       3.0    1.00000     747.000000        244.00000  ...   \n",
       "\n",
       "   property_type_House  property_type_Lot  property_type_Office  \\\n",
       "0                    0                  0                     0   \n",
       "1                    0                  0                     0   \n",
       "2                    1                  0                     0   \n",
       "\n",
       "   property_type_Other  property_type_PH  property_type_Shop  \\\n",
       "0                    0                 0                   0   \n",
       "1                    0                 0                   0   \n",
       "2                    0                 0                   0   \n",
       "\n",
       "   property_type_Warehouse  operation_type_For Rent  operation_type_For Sale  \\\n",
       "0                        0                        0                        1   \n",
       "1                        0                        0                        1   \n",
       "2                        0                        0                        1   \n",
       "\n",
       "   operation_type_For Sublease  \n",
       "0                            0  \n",
       "1                            0  \n",
       "2                            0  \n",
       "\n",
       "[3 rows x 71 columns]"
      ]
     },
     "execution_count": 19,
     "metadata": {},
     "output_type": "execute_result"
    }
   ],
   "source": [
    "df = pd.read_csv('data/argentina_final.csv')\n",
    "df.drop('Unnamed: 0', axis=1, inplace=True)\n",
    "df.head(3)"
   ]
  },
  {
   "cell_type": "code",
   "execution_count": 3,
   "id": "aa8587c5",
   "metadata": {},
   "outputs": [],
   "source": [
    "df['start_date']= pd.to_datetime(df['start_date'])\n",
    "df['end_date']= pd.to_datetime(df['end_date'])\n",
    "df['created_on']= pd.to_datetime(df['created_on'])"
   ]
  },
  {
   "cell_type": "markdown",
   "id": "49e09bdd",
   "metadata": {},
   "source": [
    "### Split data"
   ]
  },
  {
   "cell_type": "code",
   "execution_count": 4,
   "id": "9bf9382e",
   "metadata": {},
   "outputs": [
    {
     "name": "stdout",
     "output_type": "stream",
     "text": [
      "0.6999993770104392 \n",
      " 0.30000062298956076\n"
     ]
    }
   ],
   "source": [
    "X_train, X_test, y_train, y_test = train_test_split(df.drop(['price', 'start_date', 'end_date', 'created_on'], axis=1), df.price, test_size=.3)\n",
    "print(len(X_train)/len(df), \"\\n\", len(X_test)/len(df))"
   ]
  },
  {
   "cell_type": "markdown",
   "id": "fd377621",
   "metadata": {},
   "source": [
    "## Create Model"
   ]
  },
  {
   "cell_type": "code",
   "execution_count": 5,
   "id": "fcb5f31a",
   "metadata": {},
   "outputs": [
    {
     "name": "stdout",
     "output_type": "stream",
     "text": [
      "CPU times: user 31min 49s, sys: 28.9 s, total: 32min 18s\n",
      "Wall time: 12min 8s\n"
     ]
    }
   ],
   "source": [
    "%%time\n",
    "rfr = RandomForestRegressor(n_jobs=-1)\n",
    "\n",
    "rfr.fit(X_train, y_train)\n",
    "rfr_preds = rfr.predict(X_test)"
   ]
  },
  {
   "cell_type": "code",
   "execution_count": 6,
   "id": "fdf329bc",
   "metadata": {},
   "outputs": [
    {
     "data": {
      "text/plain": [
       "{'bootstrap': True,\n",
       " 'ccp_alpha': 0.0,\n",
       " 'criterion': 'mse',\n",
       " 'max_depth': None,\n",
       " 'max_features': 'auto',\n",
       " 'max_leaf_nodes': None,\n",
       " 'max_samples': None,\n",
       " 'min_impurity_decrease': 0.0,\n",
       " 'min_impurity_split': None,\n",
       " 'min_samples_leaf': 1,\n",
       " 'min_samples_split': 2,\n",
       " 'min_weight_fraction_leaf': 0.0,\n",
       " 'n_estimators': 100,\n",
       " 'n_jobs': -1,\n",
       " 'oob_score': False,\n",
       " 'random_state': None,\n",
       " 'verbose': 0,\n",
       " 'warm_start': False}"
      ]
     },
     "execution_count": 6,
     "metadata": {},
     "output_type": "execute_result"
    }
   ],
   "source": [
    "rfr.get_params()"
   ]
  },
  {
   "cell_type": "markdown",
   "id": "0478b5ee",
   "metadata": {},
   "source": [
    "## Evaluate Model "
   ]
  },
  {
   "cell_type": "code",
   "execution_count": 7,
   "id": "5ae4a0c1",
   "metadata": {},
   "outputs": [
    {
     "name": "stdout",
     "output_type": "stream",
     "text": [
      "RMSE - Random Forest:  13293263.756443547\n"
     ]
    }
   ],
   "source": [
    "rfr_rmse = mean_squared_error(y_test, rfr_preds, squared=False)\n",
    "\n",
    "print(\"RMSE - Random Forest: \", rfr_rmse)"
   ]
  },
  {
   "cell_type": "markdown",
   "id": "47251370",
   "metadata": {},
   "source": [
    "#### K-fold cross validation"
   ]
  },
  {
   "cell_type": "code",
   "execution_count": 10,
   "id": "4c653b7e",
   "metadata": {},
   "outputs": [
    {
     "name": "stdout",
     "output_type": "stream",
     "text": [
      "CPU times: user 1min 39s, sys: 1min 19s, total: 2min 59s\n",
      "Wall time: 36min 45s\n"
     ]
    }
   ],
   "source": [
    "%%time \n",
    "all_accuracies = cross_val_score(estimator=rfr, X=X_train, y=y_train, cv=5, scoring=\"neg_root_mean_squared_error\")"
   ]
  },
  {
   "cell_type": "code",
   "execution_count": 11,
   "id": "45b19a63",
   "metadata": {},
   "outputs": [
    {
     "data": {
      "text/plain": [
       "array([  -285023.16344484, -18523289.20601667, -27234359.65737875,\n",
       "        -1197589.52562492,  -7088708.15690203])"
      ]
     },
     "execution_count": 11,
     "metadata": {},
     "output_type": "execute_result"
    }
   ],
   "source": [
    "all_accuracies"
   ]
  },
  {
   "cell_type": "markdown",
   "id": "5cffce8f",
   "metadata": {},
   "source": [
    "## Hyperparameter Tuning\n",
    "Grid Search CV"
   ]
  },
  {
   "cell_type": "code",
   "execution_count": 12,
   "id": "b64435b1",
   "metadata": {},
   "outputs": [],
   "source": [
    "param_grid = {\n",
    "    'max_depth': [None, 80],\n",
    "    'min_samples_leaf': [1, 3, 5],\n",
    "    'n_estimators': [100, 500, 800]\n",
    "}"
   ]
  },
  {
   "cell_type": "code",
   "execution_count": 13,
   "id": "2e3eb9f8",
   "metadata": {},
   "outputs": [
    {
     "name": "stdout",
     "output_type": "stream",
     "text": [
      "Fitting 3 folds for each of 18 candidates, totalling 54 fits\n",
      "CPU times: user 28min 57s, sys: 13.8 s, total: 29min 11s\n",
      "Wall time: 23h 28min 18s\n"
     ]
    },
    {
     "data": {
      "text/plain": [
       "{'max_depth': None, 'min_samples_leaf': 5, 'n_estimators': 100}"
      ]
     },
     "execution_count": 13,
     "metadata": {},
     "output_type": "execute_result"
    }
   ],
   "source": [
    "%%time\n",
    "grid_search = GridSearchCV(estimator=rfr, param_grid=param_grid, cv=3, n_jobs=-1, verbose=2)\n",
    "grid_search.fit(X_train, y_train)\n",
    "grid_search.best_params_"
   ]
  },
  {
   "cell_type": "code",
   "execution_count": 14,
   "id": "5203af95",
   "metadata": {},
   "outputs": [
    {
     "name": "stdout",
     "output_type": "stream",
     "text": [
      "CPU times: user 19.5 s, sys: 405 ms, total: 19.9 s\n",
      "Wall time: 6.4 s\n"
     ]
    }
   ],
   "source": [
    "%%time\n",
    "best_grid = grid_search.best_estimator_\n",
    "best_grid_preds = best_grid.predict(X_test)\n",
    "best_grid_rmse = mean_squared_error(y_test, best_grid_preds, squared=False)"
   ]
  },
  {
   "cell_type": "code",
   "execution_count": 15,
   "id": "1d8c0886",
   "metadata": {},
   "outputs": [
    {
     "name": "stdout",
     "output_type": "stream",
     "text": [
      "Base RMSE: \t 363768.8377066086\n",
      "Tuned RMSE: \t 4871377.790158139\n"
     ]
    }
   ],
   "source": [
    "print(\"Base RMSE: \\t\", rfr_rmse)\n",
    "print(\"Tuned RMSE: \\t\", best_grid_rmse)"
   ]
  },
  {
   "cell_type": "code",
   "execution_count": 31,
   "id": "d433ad70",
   "metadata": {},
   "outputs": [
    {
     "data": {
      "text/plain": [
       "{'bootstrap': True,\n",
       " 'ccp_alpha': 0.0,\n",
       " 'criterion': 'mse',\n",
       " 'max_depth': None,\n",
       " 'max_features': 'auto',\n",
       " 'max_leaf_nodes': None,\n",
       " 'max_samples': None,\n",
       " 'min_impurity_decrease': 0.0,\n",
       " 'min_impurity_split': None,\n",
       " 'min_samples_leaf': 1,\n",
       " 'min_samples_split': 2,\n",
       " 'min_weight_fraction_leaf': 0.0,\n",
       " 'n_estimators': 100,\n",
       " 'n_jobs': -1,\n",
       " 'oob_score': False,\n",
       " 'random_state': None,\n",
       " 'verbose': 0,\n",
       " 'warm_start': False}"
      ]
     },
     "execution_count": 31,
     "metadata": {},
     "output_type": "execute_result"
    }
   ],
   "source": [
    "rfr.get_params()"
   ]
  },
  {
   "cell_type": "code",
   "execution_count": 30,
   "id": "eb3502d8",
   "metadata": {},
   "outputs": [
    {
     "data": {
      "text/plain": [
       "{'bootstrap': True,\n",
       " 'ccp_alpha': 0.0,\n",
       " 'criterion': 'mse',\n",
       " 'max_depth': None,\n",
       " 'max_features': 'auto',\n",
       " 'max_leaf_nodes': None,\n",
       " 'max_samples': None,\n",
       " 'min_impurity_decrease': 0.0,\n",
       " 'min_impurity_split': None,\n",
       " 'min_samples_leaf': 5,\n",
       " 'min_samples_split': 2,\n",
       " 'min_weight_fraction_leaf': 0.0,\n",
       " 'n_estimators': 100,\n",
       " 'n_jobs': -1,\n",
       " 'oob_score': False,\n",
       " 'random_state': None,\n",
       " 'verbose': 0,\n",
       " 'warm_start': False}"
      ]
     },
     "execution_count": 30,
     "metadata": {},
     "output_type": "execute_result"
    }
   ],
   "source": [
    "best_grid.get_params()"
   ]
  },
  {
   "cell_type": "markdown",
   "id": "623f3555",
   "metadata": {},
   "source": [
    "# Compare to base model and untuned model\n",
    "Metrics and Visualizations"
   ]
  },
  {
   "cell_type": "code",
   "execution_count": 16,
   "id": "83a2781f",
   "metadata": {},
   "outputs": [],
   "source": [
    "dummy_mean = DummyRegressor(strategy = 'mean').fit(X_train, y_train)\n",
    "mean_preds = dummy_mean.predict(X_test)\n",
    "\n",
    "dme_rmse = mean_squared_error(y_test, mean_preds, squared=False)"
   ]
  },
  {
   "cell_type": "code",
   "execution_count": 18,
   "id": "0b8d347f",
   "metadata": {},
   "outputs": [],
   "source": [
    "evals = pd.DataFrame([['Base Model', dme_rmse], \n",
    "                      ['Untuned Randomn Forest', rfr_rmse], \n",
    "                      ['Tuned Random Forest', best_grid_rmse]], columns=['Model', 'RMSE'])"
   ]
  },
  {
   "cell_type": "code",
   "execution_count": 28,
   "id": "8d0a4235",
   "metadata": {},
   "outputs": [
    {
     "data": {
      "image/png": "[encoded data removed]",
      "text/plain": [
       "<Figure size 640x480 with 1 Axes>"
      ]
     },
     "metadata": {},
     "output_type": "display_data"
    }
   ],
   "source": [
    "import matplotlib.pyplot as plt\n",
    "sns.barplot(data=evals, x='Model', y='RMSE')\n",
    "plt.show()"
   ]
  },
  {
   "cell_type": "markdown",
   "id": "566c680f",
   "metadata": {},
   "source": [
    "## Train model on whole dataset, then save"
   ]
  },
  {
   "cell_type": "code",
   "execution_count": 28,
   "id": "5a2258c3",
   "metadata": {},
   "outputs": [
    {
     "name": "stdout",
     "output_type": "stream",
     "text": [
      "CPU times: user 38min 45s, sys: 27.4 s, total: 39min 12s\n",
      "Wall time: 14min 19s\n"
     ]
    },
    {
     "data": {
      "text/plain": [
       "RandomForestRegressor(n_jobs=-1)"
      ]
     },
     "execution_count": 28,
     "metadata": {},
     "output_type": "execute_result"
    }
   ],
   "source": [
    "%%time\n",
    "\n",
    "x = df.drop(['price', 'start_date', 'end_date', 'created_on'], axis=1)\n",
    "y = df.price\n",
    "\n",
    "rfr_final = RandomForestRegressor(n_jobs=-1)\n",
    "rfr_final.fit(x, y)"
   ]
  },
  {
   "cell_type": "code",
   "execution_count": 29,
   "id": "c5817a7f",
   "metadata": {},
   "outputs": [],
   "source": [
    "import pickle\n",
    "# save the model to disk\n",
    "filename = 'models/rfr_model.pkl'\n",
    "pickle.dump(rfr_final, open(filename, 'wb'))"
   ]
  },
  {
   "cell_type": "markdown",
   "id": "c5fc6186",
   "metadata": {},
   "source": [
    "### Save columns the model uses"
   ]
  },
  {
   "cell_type": "code",
   "execution_count": 24,
   "id": "a1b40353",
   "metadata": {},
   "outputs": [],
   "source": [
    "model_cols = list(x.columns)\n",
    "filename2 = 'models/rfr_model_columns.pkl'\n",
    "pickle.dump(model_cols, open(filename2, 'wb'))"
   ]
  },
  {
   "cell_type": "code",
   "execution_count": 26,
   "id": "be71d8b2",
   "metadata": {},
   "outputs": [],
   "source": [
    "# load the model from disk\n",
    "#loaded_model = pickle.load(open(filename, 'rb'))\n",
    "#result_preds = rfr.predict(X_test)\n",
    "#result_rmse = mean_squared_error(y_test, result_preds, squared=False)"
   ]
  },
  {
   "cell_type": "code",
   "execution_count": 27,
   "id": "ea74659d",
   "metadata": {},
   "outputs": [],
   "source": [
    "#print(result_rmse)"
   ]
  },
  {
   "cell_type": "code",
   "execution_count": 14,
   "id": "2255d590",
   "metadata": {},
   "outputs": [
    {
     "data": {
      "text/plain": [
       "Index(['lat', 'lon', 'rooms', 'bedrooms', 'bathrooms', 'surface_total',\n",
       "       'surface_covered', 'l1_Argentina', 'l1_Brasil', 'l1_Estados Unidos',\n",
       "       'l1_Uruguay', 'l2_Bs.As. G.B.A. Zona Norte',\n",
       "       'l2_Bs.As. G.B.A. Zona Oeste', 'l2_Bs.As. G.B.A. Zona Sur',\n",
       "       'l2_Buenos Aires Costa Atlántica', 'l2_Buenos Aires Interior',\n",
       "       'l2_Canelones', 'l2_Capital Federal', 'l2_Catamarca', 'l2_Chaco',\n",
       "       'l2_Chubut', 'l2_Colonia', 'l2_Corrientes', 'l2_Córdoba',\n",
       "       'l2_Entre Ríos', 'l2_Florida', 'l2_Formosa', 'l2_Jujuy', 'l2_La Pampa',\n",
       "       'l2_La Rioja', 'l2_Maldonado', 'l2_Maryland', 'l2_Mendoza', 'l2_Miami',\n",
       "       'l2_Michigan', 'l2_Misiones', 'l2_Montevideo', 'l2_Neuquén',\n",
       "       'l2_New York', 'l2_Pennsylvania', 'l2_Rio Grande do Norte',\n",
       "       'l2_Rio de Janeiro', 'l2_Rocha', 'l2_Río Negro', 'l2_Salta',\n",
       "       'l2_San Juan', 'l2_San Luis', 'l2_Santa Catarina', 'l2_Santa Cruz',\n",
       "       'l2_Santa Fe', 'l2_Santiago Del Estero', 'l2_São Paulo',\n",
       "       'l2_Tierra Del Fuego', 'l2_Tucumán', 'property_type_Cottage',\n",
       "       'property_type_Department', 'property_type_Garage',\n",
       "       'property_type_House', 'property_type_Lot', 'property_type_Office',\n",
       "       'property_type_Other', 'property_type_PH', 'property_type_Shop',\n",
       "       'property_type_Warehouse', 'operation_type_For Rent',\n",
       "       'operation_type_For Sale', 'operation_type_For Sublease'],\n",
       "      dtype='object')"
      ]
     },
     "execution_count": 14,
     "metadata": {},
     "output_type": "execute_result"
    }
   ],
   "source": [
    "#X_train.columns"
   ]
  },
  {
   "cell_type": "code",
   "execution_count": null,
   "id": "56511cb7",
   "metadata": {},
   "outputs": [],
   "source": [
    "['lat', 'lon', 'rooms', 'bedrooms', 'bathrooms', 'surface_total',\n",
    "       'surface_covered', 'l1_Argentina', 'l1_Brasil', 'l1_Estados Unidos',\n",
    "       'l1_Uruguay', 'l2_Bs.As. G.B.A. Zona Norte',\n",
    "       'l2_Bs.As. G.B.A. Zona Oeste', 'l2_Bs.As. G.B.A. Zona Sur',\n",
    "       'l2_Buenos Aires Costa Atlántica', 'l2_Buenos Aires Interior',\n",
    "       'l2_Canelones', 'l2_Capital Federal', 'l2_Catamarca', 'l2_Chaco',\n",
    "       'l2_Chubut', 'l2_Colonia', 'l2_Corrientes', 'l2_Córdoba',\n",
    "       'l2_Entre Ríos', 'l2_Florida', 'l2_Formosa', 'l2_Jujuy', 'l2_La Pampa',\n",
    "       'l2_La Rioja', 'l2_Maldonado', 'l2_Maryland', 'l2_Mendoza', 'l2_Miami',\n",
    "       'l2_Michigan', 'l2_Misiones', 'l2_Montevideo', 'l2_Neuquén',\n",
    "       'l2_New York', 'l2_Pennsylvania', 'l2_Rio Grande do Norte',\n",
    "       'l2_Rio de Janeiro', 'l2_Rocha', 'l2_Río Negro', 'l2_Salta',\n",
    "       'l2_San Juan', 'l2_San Luis', 'l2_Santa Catarina', 'l2_Santa Cruz',\n",
    "       'l2_Santa Fe', 'l2_Santiago Del Estero', 'l2_São Paulo',\n",
    "       'l2_Tierra Del Fuego', 'l2_Tucumán', 'property_type_Cottage',\n",
    "       'property_type_Department', 'property_type_Garage',\n",
    "       'property_type_House', 'property_type_Lot', 'property_type_Office',\n",
    "       'property_type_Other', 'property_type_PH', 'property_type_Shop',\n",
    "       'property_type_Warehouse', 'operation_type_For Rent',\n",
    "       'operation_type_For Sale', 'operation_type_For Sublease']"
   ]
  }
 ],
 "metadata": {
  "kernelspec": {
   "display_name": "Python 3",
   "language": "python",
   "name": "python3"
  },
  "language_info": {
   "codemirror_mode": {
    "name": "ipython",
    "version": 3
   },
   "file_extension": ".py",
   "mimetype": "text/x-python",
   "name": "python",
   "nbconvert_exporter": "python",
   "pygments_lexer": "ipython3",
   "version": "3.8.5"
  }
 },
 "nbformat": 4,
 "nbformat_minor": 5
}
