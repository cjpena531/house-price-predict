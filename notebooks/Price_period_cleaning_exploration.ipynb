{
 "cells": [
  {
   "cell_type": "code",
   "execution_count": 1,
   "id": "b78ab801",
   "metadata": {},
   "outputs": [],
   "source": [
    "import pandas as pd"
   ]
  },
  {
   "cell_type": "code",
   "execution_count": 12,
   "id": "5d378216",
   "metadata": {},
   "outputs": [
    {
     "data": {
      "text/html": [
       "<div>\n",
       "<style scoped>\n",
       "    .dataframe tbody tr th:only-of-type {\n",
       "        vertical-align: middle;\n",
       "    }\n",
       "\n",
       "    .dataframe tbody tr th {\n",
       "        vertical-align: top;\n",
       "    }\n",
       "\n",
       "    .dataframe thead th {\n",
       "        text-align: right;\n",
       "    }\n",
       "</style>\n",
       "<table border=\"1\" class=\"dataframe\">\n",
       "  <thead>\n",
       "    <tr style=\"text-align: right;\">\n",
       "      <th></th>\n",
       "      <th>id</th>\n",
       "      <th>ad_type</th>\n",
       "      <th>start_date</th>\n",
       "      <th>end_date</th>\n",
       "      <th>created_on</th>\n",
       "      <th>lat</th>\n",
       "      <th>lon</th>\n",
       "      <th>l1</th>\n",
       "      <th>l2</th>\n",
       "      <th>l3</th>\n",
       "      <th>...</th>\n",
       "      <th>bathrooms</th>\n",
       "      <th>surface_total</th>\n",
       "      <th>surface_covered</th>\n",
       "      <th>price</th>\n",
       "      <th>currency</th>\n",
       "      <th>price_period</th>\n",
       "      <th>title</th>\n",
       "      <th>description</th>\n",
       "      <th>property_type</th>\n",
       "      <th>operation_type</th>\n",
       "    </tr>\n",
       "  </thead>\n",
       "  <tbody>\n",
       "    <tr>\n",
       "      <th>0</th>\n",
       "      <td>wdQ5hWhv8P14T7Sh9g4QCg==</td>\n",
       "      <td>Propiedad</td>\n",
       "      <td>2020-12-25</td>\n",
       "      <td>9999-12-31</td>\n",
       "      <td>2020-12-25</td>\n",
       "      <td>-32.716652</td>\n",
       "      <td>-68.642692</td>\n",
       "      <td>Argentina</td>\n",
       "      <td>Mendoza</td>\n",
       "      <td>NaN</td>\n",
       "      <td>...</td>\n",
       "      <td>NaN</td>\n",
       "      <td>350.0</td>\n",
       "      <td>350.0</td>\n",
       "      <td>NaN</td>\n",
       "      <td>NaN</td>\n",
       "      <td>NaN</td>\n",
       "      <td>Excelentes Lotes Sobre Ruta 34</td>\n",
       "      <td>Corredor Responsable: VICTOR E. MONTIVERO - C....</td>\n",
       "      <td>Lote</td>\n",
       "      <td>Venta</td>\n",
       "    </tr>\n",
       "    <tr>\n",
       "      <th>1</th>\n",
       "      <td>nnMBYZ4RMRY+vm753EtA+g==</td>\n",
       "      <td>Propiedad</td>\n",
       "      <td>2020-12-25</td>\n",
       "      <td>9999-12-31</td>\n",
       "      <td>2020-12-25</td>\n",
       "      <td>-24.797723</td>\n",
       "      <td>-65.467514</td>\n",
       "      <td>Argentina</td>\n",
       "      <td>Salta</td>\n",
       "      <td>NaN</td>\n",
       "      <td>...</td>\n",
       "      <td>NaN</td>\n",
       "      <td>1541.0</td>\n",
       "      <td>1541.0</td>\n",
       "      <td>NaN</td>\n",
       "      <td>NaN</td>\n",
       "      <td>Mensual</td>\n",
       "      <td>TERRENO + VENTA + JARDINES DE SAN LORENZO +150...</td>\n",
       "      <td>Corredor Responsable: Pablo Castañeda - C.U.C....</td>\n",
       "      <td>Lote</td>\n",
       "      <td>Venta</td>\n",
       "    </tr>\n",
       "    <tr>\n",
       "      <th>2</th>\n",
       "      <td>+dnVA1K6JxzL1zAjOEQ1pA==</td>\n",
       "      <td>Propiedad</td>\n",
       "      <td>2020-12-25</td>\n",
       "      <td>2020-12-29</td>\n",
       "      <td>2020-12-25</td>\n",
       "      <td>-34.919373</td>\n",
       "      <td>-58.020591</td>\n",
       "      <td>Argentina</td>\n",
       "      <td>Bs.As. G.B.A. Zona Sur</td>\n",
       "      <td>La Plata</td>\n",
       "      <td>...</td>\n",
       "      <td>NaN</td>\n",
       "      <td>1000.0</td>\n",
       "      <td>1000.0</td>\n",
       "      <td>NaN</td>\n",
       "      <td>NaN</td>\n",
       "      <td>Mensual</td>\n",
       "      <td>Lote en Venta de 1000 m2 en La Plata</td>\n",
       "      <td>Corredor Responsable: Rico Sebastián - Martill...</td>\n",
       "      <td>Lote</td>\n",
       "      <td>Venta</td>\n",
       "    </tr>\n",
       "    <tr>\n",
       "      <th>3</th>\n",
       "      <td>dLHXKN5/sRZpm9Yk0yI2nA==</td>\n",
       "      <td>Propiedad</td>\n",
       "      <td>2020-12-25</td>\n",
       "      <td>2020-12-29</td>\n",
       "      <td>2020-12-25</td>\n",
       "      <td>-34.919455</td>\n",
       "      <td>-58.024807</td>\n",
       "      <td>Argentina</td>\n",
       "      <td>Bs.As. G.B.A. Zona Sur</td>\n",
       "      <td>La Plata</td>\n",
       "      <td>...</td>\n",
       "      <td>NaN</td>\n",
       "      <td>1000.0</td>\n",
       "      <td>1000.0</td>\n",
       "      <td>NaN</td>\n",
       "      <td>NaN</td>\n",
       "      <td>Mensual</td>\n",
       "      <td>Lote en Venta de 1000 m2 en La Plata</td>\n",
       "      <td>Corredor Responsable: Rico Sebastián - Martill...</td>\n",
       "      <td>Lote</td>\n",
       "      <td>Venta</td>\n",
       "    </tr>\n",
       "    <tr>\n",
       "      <th>4</th>\n",
       "      <td>wtw/k887EPipd37UYHKb1Q==</td>\n",
       "      <td>Propiedad</td>\n",
       "      <td>2020-12-25</td>\n",
       "      <td>9999-12-31</td>\n",
       "      <td>2020-12-25</td>\n",
       "      <td>-34.364924</td>\n",
       "      <td>-58.783143</td>\n",
       "      <td>Argentina</td>\n",
       "      <td>Bs.As. G.B.A. Zona Norte</td>\n",
       "      <td>Escobar</td>\n",
       "      <td>...</td>\n",
       "      <td>NaN</td>\n",
       "      <td>18164.0</td>\n",
       "      <td>18164.0</td>\n",
       "      <td>NaN</td>\n",
       "      <td>NaN</td>\n",
       "      <td>Mensual</td>\n",
       "      <td>PANAMERICANA 47300</td>\n",
       "      <td>Nave principal 66 x 90 m:    6005 m2 cubiertos...</td>\n",
       "      <td>Otro</td>\n",
       "      <td>Venta</td>\n",
       "    </tr>\n",
       "  </tbody>\n",
       "</table>\n",
       "<p>5 rows × 25 columns</p>\n",
       "</div>"
      ],
      "text/plain": [
       "                         id    ad_type  start_date    end_date  created_on  \\\n",
       "0  wdQ5hWhv8P14T7Sh9g4QCg==  Propiedad  2020-12-25  9999-12-31  2020-12-25   \n",
       "1  nnMBYZ4RMRY+vm753EtA+g==  Propiedad  2020-12-25  9999-12-31  2020-12-25   \n",
       "2  +dnVA1K6JxzL1zAjOEQ1pA==  Propiedad  2020-12-25  2020-12-29  2020-12-25   \n",
       "3  dLHXKN5/sRZpm9Yk0yI2nA==  Propiedad  2020-12-25  2020-12-29  2020-12-25   \n",
       "4  wtw/k887EPipd37UYHKb1Q==  Propiedad  2020-12-25  9999-12-31  2020-12-25   \n",
       "\n",
       "         lat        lon         l1                        l2        l3  ...  \\\n",
       "0 -32.716652 -68.642692  Argentina                   Mendoza       NaN  ...   \n",
       "1 -24.797723 -65.467514  Argentina                     Salta       NaN  ...   \n",
       "2 -34.919373 -58.020591  Argentina    Bs.As. G.B.A. Zona Sur  La Plata  ...   \n",
       "3 -34.919455 -58.024807  Argentina    Bs.As. G.B.A. Zona Sur  La Plata  ...   \n",
       "4 -34.364924 -58.783143  Argentina  Bs.As. G.B.A. Zona Norte   Escobar  ...   \n",
       "\n",
       "  bathrooms surface_total  surface_covered  price  currency  price_period  \\\n",
       "0       NaN         350.0            350.0    NaN       NaN           NaN   \n",
       "1       NaN        1541.0           1541.0    NaN       NaN       Mensual   \n",
       "2       NaN        1000.0           1000.0    NaN       NaN       Mensual   \n",
       "3       NaN        1000.0           1000.0    NaN       NaN       Mensual   \n",
       "4       NaN       18164.0          18164.0    NaN       NaN       Mensual   \n",
       "\n",
       "                                               title  \\\n",
       "0                     Excelentes Lotes Sobre Ruta 34   \n",
       "1  TERRENO + VENTA + JARDINES DE SAN LORENZO +150...   \n",
       "2               Lote en Venta de 1000 m2 en La Plata   \n",
       "3               Lote en Venta de 1000 m2 en La Plata   \n",
       "4                                 PANAMERICANA 47300   \n",
       "\n",
       "                                         description  property_type  \\\n",
       "0  Corredor Responsable: VICTOR E. MONTIVERO - C....           Lote   \n",
       "1  Corredor Responsable: Pablo Castañeda - C.U.C....           Lote   \n",
       "2  Corredor Responsable: Rico Sebastián - Martill...           Lote   \n",
       "3  Corredor Responsable: Rico Sebastián - Martill...           Lote   \n",
       "4  Nave principal 66 x 90 m:    6005 m2 cubiertos...           Otro   \n",
       "\n",
       "  operation_type  \n",
       "0          Venta  \n",
       "1          Venta  \n",
       "2          Venta  \n",
       "3          Venta  \n",
       "4          Venta  \n",
       "\n",
       "[5 rows x 25 columns]"
      ]
     },
     "execution_count": 12,
     "metadata": {},
     "output_type": "execute_result"
    }
   ],
   "source": [
    "df = pd.read_csv(\"data/argentina.csv\")\n",
    "df.head()"
   ]
  },
  {
   "cell_type": "code",
   "execution_count": 13,
   "id": "844b9e21",
   "metadata": {},
   "outputs": [
    {
     "data": {
      "text/plain": [
       "price_period\n",
       "Diario      40110.000000\n",
       "Mensual    296616.805340\n",
       "Semanal    139234.827586\n",
       "Name: price, dtype: float64"
      ]
     },
     "execution_count": 13,
     "metadata": {},
     "output_type": "execute_result"
    }
   ],
   "source": [
    "df.groupby('price_period')['price'].mean()"
   ]
  },
  {
   "cell_type": "code",
   "execution_count": 14,
   "id": "7121da56",
   "metadata": {},
   "outputs": [
    {
     "data": {
      "text/plain": [
       "price_period\n",
       "Diario      40110.000000\n",
       "Mensual    296616.805340\n",
       "Semanal    139234.827586\n",
       "Name: price, dtype: float64"
      ]
     },
     "execution_count": 14,
     "metadata": {},
     "output_type": "execute_result"
    }
   ],
   "source": [
    "df[\"price\"] = df.groupby(\"price_period\")['price'].transform(lambda x: x.fillna(x.mean()))\n",
    "df.groupby('price_period')['price'].mean()"
   ]
  },
  {
   "cell_type": "code",
   "execution_count": 15,
   "id": "09a9dc30",
   "metadata": {},
   "outputs": [
    {
     "data": {
      "text/plain": [
       "price_period\n",
       "Diario          8\n",
       "Mensual    362978\n",
       "Semanal        29\n",
       "Name: price, dtype: int64"
      ]
     },
     "execution_count": 15,
     "metadata": {},
     "output_type": "execute_result"
    }
   ],
   "source": [
    "df.groupby('price_period')['price'].count()"
   ]
  },
  {
   "cell_type": "code",
   "execution_count": 20,
   "id": "6d7f685c",
   "metadata": {},
   "outputs": [],
   "source": [
    "df.loc[df['price_period'] == 'Diario', 'price'] = df.loc[df['price_period'] == 'Diario', 'price'] * 30\n",
    "df.loc[df['price_period'] == 'Semanal', 'price'] = df.loc[df['price_period'] == 'Semanal', 'price'] * 4\n"
   ]
  },
  {
   "cell_type": "code",
   "execution_count": 21,
   "id": "885458c8",
   "metadata": {},
   "outputs": [
    {
     "data": {
      "text/plain": [
       "price_period\n",
       "Diario     3.609900e+07\n",
       "Mensual    2.966168e+05\n",
       "Semanal    5.569393e+05\n",
       "Name: price, dtype: float64"
      ]
     },
     "execution_count": 21,
     "metadata": {},
     "output_type": "execute_result"
    }
   ],
   "source": [
    "df.groupby('price_period')['price'].mean()"
   ]
  },
  {
   "cell_type": "code",
   "execution_count": null,
   "id": "9012c639",
   "metadata": {},
   "outputs": [],
   "source": []
  }
 ],
 "metadata": {
  "kernelspec": {
   "display_name": "Python 3",
   "language": "python",
   "name": "python3"
  },
  "language_info": {
   "codemirror_mode": {
    "name": "ipython",
    "version": 3
   },
   "file_extension": ".py",
   "mimetype": "text/x-python",
   "name": "python",
   "nbconvert_exporter": "python",
   "pygments_lexer": "ipython3",
   "version": "3.8.5"
  }
 },
 "nbformat": 4,
 "nbformat_minor": 5
}
